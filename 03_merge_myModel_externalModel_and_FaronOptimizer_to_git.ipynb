{
 "cells": [
  {
   "cell_type": "markdown",
   "metadata": {},
   "source": [
    "# Merging (averaging) two submissions and optimize the leaderboard metric F-score"
   ]
  },
  {
   "cell_type": "code",
   "execution_count": 3,
   "metadata": {
    "collapsed": true
   },
   "outputs": [],
   "source": [
    "# Importing a soulution shared on the forum from a top competitor. Thanks for sharing! \n",
    "# We will going to merge this one with mine.\n",
    "import pandas as pd\n",
    "\n",
    "data_0 = pd.read_pickle('prediction_from_other_solution/prediction_arboretum.pkl')"
   ]
  },
  {
   "cell_type": "code",
   "execution_count": 5,
   "metadata": {},
   "outputs": [
    {
     "data": {
      "text/plain": [
       "(4833292, 3)"
      ]
     },
     "execution_count": 5,
     "metadata": {},
     "output_type": "execute_result"
    }
   ],
   "source": [
    "data_0.shape"
   ]
  },
  {
   "cell_type": "code",
   "execution_count": 6,
   "metadata": {},
   "outputs": [
    {
     "data": {
      "text/plain": [
       "75000"
      ]
     },
     "execution_count": 6,
     "metadata": {},
     "output_type": "execute_result"
    }
   ],
   "source": [
    "data_0.order_id.nunique()"
   ]
  },
  {
   "cell_type": "code",
   "execution_count": 14,
   "metadata": {
    "collapsed": true
   },
   "outputs": [],
   "source": [
    "# This is the fansatic piece of code to optimized our leaderboard metric --> F score. \n",
    "# This is from one of the best data scientiest in the world. Faron.Thanks for sharing \n",
    "\n",
    "class F1Optimizer():\n",
    "    def __init__(self):\n",
    "        pass\n",
    "\n",
    "    @staticmethod\n",
    "    def get_expectations(P, pNone=None):\n",
    "        expectations = []\n",
    "        P = np.sort(P)[::-1]\n",
    "\n",
    "        n = np.array(P).shape[0]\n",
    "        DP_C = np.zeros((n + 2, n + 1))\n",
    "        if pNone is None:\n",
    "            pNone = (1.0 - P).prod()\n",
    "\n",
    "        DP_C[0][0] = 1.0\n",
    "        for j in range(1, n):\n",
    "            DP_C[0][j] = (1.0 - P[j - 1]) * DP_C[0, j - 1]\n",
    "\n",
    "        for i in range(1, n + 1):\n",
    "            DP_C[i, i] = DP_C[i - 1, i - 1] * P[i - 1]\n",
    "            for j in range(i + 1, n + 1):\n",
    "                DP_C[i, j] = P[j - 1] * DP_C[i - 1, j - 1] + (1.0 - P[j - 1]) * DP_C[i, j - 1]\n",
    "\n",
    "        DP_S = np.zeros((2 * n + 1,))\n",
    "        DP_SNone = np.zeros((2 * n + 1,))\n",
    "        for i in range(1, 2 * n + 1):\n",
    "            DP_S[i] = 1. / (1. * i)\n",
    "            DP_SNone[i] = 1. / (1. * i + 1)\n",
    "        for k in range(n + 1)[::-1]:\n",
    "            f1 = 0\n",
    "            f1None = 0\n",
    "            for k1 in range(n + 1):\n",
    "                f1 += 2 * k1 * DP_C[k1][k] * DP_S[k + k1]\n",
    "                f1None += 2 * k1 * DP_C[k1][k] * DP_SNone[k + k1]\n",
    "            for i in range(1, 2 * k - 1):\n",
    "                DP_S[i] = (1 - P[k - 1]) * DP_S[i] + P[k - 1] * DP_S[i + 1]\n",
    "                DP_SNone[i] = (1 - P[k - 1]) * DP_SNone[i] + P[k - 1] * DP_SNone[i + 1]\n",
    "            expectations.append([f1None + 2 * pNone / (2 + k), f1])\n",
    "\n",
    "        return np.array(expectations[::-1]).T\n",
    "\n",
    "    @staticmethod\n",
    "    def maximize_expectation(P, pNone=None):\n",
    "        expectations = F1Optimizer.get_expectations(P, pNone)\n",
    "\n",
    "        ix_max = np.unravel_index(expectations.argmax(), expectations.shape)\n",
    "        max_f1 = expectations[ix_max]\n",
    "\n",
    "        predNone = True if ix_max[0] == 0 else False\n",
    "        best_k = ix_max[1]\n",
    "\n",
    "        return best_k, predNone, max_f1\n",
    "\n",
    "    @staticmethod\n",
    "    def _F1(tp, fp, fn):\n",
    "        return 2 * tp / (2 * tp + fp + fn)\n",
    "\n",
    "    @staticmethod\n",
    "    def _Fbeta(tp, fp, fn, beta=1.0):\n",
    "        beta_squared = beta ** 2\n",
    "        return (1.0 + beta_squared) * tp / ((1.0 + beta_squared) * tp + fp + beta_squared * fn)\n"
   ]
  },
  {
   "cell_type": "code",
   "execution_count": 15,
   "metadata": {
    "collapsed": true
   },
   "outputs": [],
   "source": [
    "\n",
    "def create_products_faron(df):\n",
    "    products = df.product_id.values\n",
    "    prob = df.prediction.values\n",
    "\n",
    "    sort_index = np.argsort(prob)[::-1]\n",
    "    prob = prob[sort_index]\n",
    "    products = products[sort_index]\n",
    "\n",
    "    opt = F1Optimizer.maximize_expectation(prob)\n",
    "    \n",
    "    best_prediction = ['None'] if opt[1] else []\n",
    "    best_prediction += [str(p) for p in products[:opt[0]]]\n",
    "    f1_max = opt[2]\n",
    "\n",
    "    best = ' '.join(best_prediction)\n",
    "    return (df.iloc[0,0], best)"
   ]
  },
  {
   "cell_type": "code",
   "execution_count": 16,
   "metadata": {},
   "outputs": [
    {
     "name": "stdout",
     "output_type": "stream",
     "text": [
      "aisles.csv\n",
      "departments.csv\n",
      "order_products__prior.csv\n",
      "order_products__train.csv\n",
      "orders.csv\n",
      "products.csv\n",
      "sample_submission.csv\n",
      "\n"
     ]
    }
   ],
   "source": [
    "import numpy as np # linear algebra\n",
    "import pandas as pd # data processing, CSV file I/O (e.g. pd.read_csv)\n",
    "import itertools\n",
    "from tqdm import tqdm\n",
    "\n",
    "from subprocess import check_output\n",
    "print(check_output([\"ls\",\"input\"]).decode(\"utf8\"))\n",
    "# Setting working directory\n"
   ]
  },
  {
   "cell_type": "code",
   "execution_count": 10,
   "metadata": {},
   "outputs": [
    {
     "name": "stdout",
     "output_type": "stream",
     "text": [
      "         order_id  prediction  product_id\n",
      "0           65432    0.027229       17330\n",
      "1          203668    0.048930       17330\n",
      "2         1734476    0.044416       17330\n",
      "3         1627971    0.048180       17330\n",
      "4         1213682    0.027965       17330\n",
      "8          761818    0.029585       17330\n",
      "9         1029203    0.018535       17330\n",
      "10        3052061    0.042104       17330\n",
      "11        1981837    0.060045       17330\n",
      "12        2224210    0.357404       17330\n",
      "13        2669437    0.053260       17330\n",
      "14         526558    0.211673       17330\n",
      "15        1339380    0.160464       17330\n",
      "17         993166    0.357754       17330\n",
      "19        1320217    0.064478       17330\n",
      "20        1697635    0.081522       17330\n",
      "22        2794524    0.613382       17330\n",
      "23        2528159    0.015822       17330\n",
      "24         290583    0.019544       17330\n",
      "25         552080    0.638703       17330\n",
      "26        2110203    0.138697       17330\n",
      "27         347183    0.021586       17330\n",
      "28         581992    0.123443       17330\n",
      "29         957508    0.184560       17330\n",
      "30        3377305    0.038657       17330\n",
      "31        3249652    0.031957       17330\n",
      "32        3030824    0.026103       17330\n",
      "34        2511113    0.154466       17330\n",
      "35        2188731    0.050581       17330\n",
      "36        1171784    0.031407       17330\n",
      "...           ...         ...         ...\n",
      "4833259   2149283    0.023402       36154\n",
      "4833261   1851004    0.034916       37758\n",
      "4833262   2656414    0.385703       24087\n",
      "4833263   3054565    0.028752       43537\n",
      "4833264   1416268    0.028249       48564\n",
      "4833265   1416268    0.031936       28231\n",
      "4833266   2149283    0.175532       44869\n",
      "4833267   1506050    0.097852       33585\n",
      "4833268   1796218    0.015412       30493\n",
      "4833269   3179122    0.106330       39522\n",
      "4833270   1604572    0.016070        2500\n",
      "4833271   1604572    0.034046       41462\n",
      "4833273    439329    0.262769       10844\n",
      "4833274   1752384    0.028318       37480\n",
      "4833275   1878373    0.049984       24470\n",
      "4833276   1878373    0.729735       49233\n",
      "4833277   2705217    0.043280        2606\n",
      "4833278   3195667    0.028727       15571\n",
      "4833279   3135344    0.065770       22519\n",
      "4833281    977663    0.016860       31080\n",
      "4833282   1516670    0.074889       38624\n",
      "4833283   2383565    0.044842       33908\n",
      "4833284   1388427    0.033970        5273\n",
      "4833285   2446037    0.044651       14316\n",
      "4833286   3225258    0.704847       37902\n",
      "4833287   2329006    0.029687       10206\n",
      "4833288   2329006    0.031620       38282\n",
      "4833289   3323261    0.407930       28094\n",
      "4833290    639533    0.067896       21236\n",
      "4833291   2184320    0.041089       37267\n",
      "\n",
      "[4127454 rows x 3 columns]\n"
     ]
    },
    {
     "name": "stderr",
     "output_type": "stream",
     "text": [
      "100%|██████████| 75000/75000 [1:57:18<00:00,  5.50it/s]  \n"
     ]
    }
   ],
   "source": [
    "# Let's try to use the Faron F optimizer on the arboretum sharing solution to see \n",
    "# how much this score on leaderboard. \n",
    "if __name__ == '__main__':\n",
    "    data = pd.read_pickle('prediction_from_other_solution/prediction_arboretum.pkl')\n",
    "\n",
    "    data = data.loc[data.prediction > 0.011, ['order_id', 'prediction', 'product_id']]\n",
    "    print (data)\n",
    "    \n",
    "    out = [create_products_faron(group) for name, group in tqdm(data.groupby(data.order_id))]\n",
    "\n",
    "    data = pd.DataFrame(data=out, columns=['order_id', 'products'])\n",
    "\n",
    "    data.to_csv('sub.csv', index=False)\n",
    "# This was pretty good!"
   ]
  },
  {
   "cell_type": "code",
   "execution_count": 11,
   "metadata": {},
   "outputs": [
    {
     "data": {
      "text/plain": [
       "(75000, 2)"
      ]
     },
     "execution_count": 11,
     "metadata": {},
     "output_type": "execute_result"
    }
   ],
   "source": [
    "data.shape "
   ]
  },
  {
   "cell_type": "code",
   "execution_count": null,
   "metadata": {
    "collapsed": true
   },
   "outputs": [],
   "source": [
    "# Let's retrieve our solution and pass it into the Faron F optimazer.\n",
    "if __name__ == '__main__':\n",
    "    data = pd.read_pickle('/prediction_lgbm.pkl')\n",
    "\n",
    "    data = data.loc[data.prediction > 0.0099, ['order_id', 'prediction', 'product_id']]\n",
    "    print (data)\n",
    "    \n",
    "    out = [create_products_faron(group) for name, group in tqdm(data.groupby(data.order_id))]\n",
    "\n",
    "    data = pd.DataFrame(data=out, columns=['order_id', 'products'])\n",
    "\n",
    "    data.to_csv('sub.csv', index=False)\n",
    "    data.shape"
   ]
  },
  {
   "cell_type": "code",
   "execution_count": 10,
   "metadata": {},
   "outputs": [
    {
     "name": "stdout",
     "output_type": "stream",
     "text": [
      "(4833292, 4)\n",
      "(4833292, 4)\n"
     ]
    }
   ],
   "source": [
    "#merging two submissions.\n",
    "import pandas as pd\n",
    "data_1 = pd.read_pickle('prediction_from_other_solution/prediction_arboretum.pkl')\n",
    "data_2 = pd.read_pickle('prediction_lgbm.pkl')\n",
    "\n",
    "data_1.reset_index(inplace=True)\n",
    "data_2.reset_index(inplace=True)\n",
    "\n",
    "print (data_1.shape)\n",
    "print (data_2.shape)"
   ]
  },
  {
   "cell_type": "code",
   "execution_count": 11,
   "metadata": {},
   "outputs": [
    {
     "name": "stdout",
     "output_type": "stream",
     "text": [
      "(4833292, 6)\n"
     ]
    },
    {
     "data": {
      "text/html": [
       "<div>\n",
       "<style>\n",
       "    .dataframe thead tr:only-child th {\n",
       "        text-align: right;\n",
       "    }\n",
       "\n",
       "    .dataframe thead th {\n",
       "        text-align: left;\n",
       "    }\n",
       "\n",
       "    .dataframe tbody tr th {\n",
       "        vertical-align: top;\n",
       "    }\n",
       "</style>\n",
       "<table border=\"1\" class=\"dataframe\">\n",
       "  <thead>\n",
       "    <tr style=\"text-align: right;\">\n",
       "      <th></th>\n",
       "      <th>index_x</th>\n",
       "      <th>order_id</th>\n",
       "      <th>prediction_x</th>\n",
       "      <th>product_id</th>\n",
       "      <th>index_y</th>\n",
       "      <th>prediction_y</th>\n",
       "      <th>prediction</th>\n",
       "    </tr>\n",
       "  </thead>\n",
       "  <tbody>\n",
       "    <tr>\n",
       "      <th>0</th>\n",
       "      <td>0</td>\n",
       "      <td>65432</td>\n",
       "      <td>0.027229</td>\n",
       "      <td>17330</td>\n",
       "      <td>0</td>\n",
       "      <td>0.035937</td>\n",
       "      <td>0.031583</td>\n",
       "    </tr>\n",
       "    <tr>\n",
       "      <th>1</th>\n",
       "      <td>1</td>\n",
       "      <td>203668</td>\n",
       "      <td>0.048930</td>\n",
       "      <td>17330</td>\n",
       "      <td>1</td>\n",
       "      <td>0.033004</td>\n",
       "      <td>0.040967</td>\n",
       "    </tr>\n",
       "    <tr>\n",
       "      <th>2</th>\n",
       "      <td>2</td>\n",
       "      <td>1734476</td>\n",
       "      <td>0.044416</td>\n",
       "      <td>17330</td>\n",
       "      <td>2</td>\n",
       "      <td>0.033722</td>\n",
       "      <td>0.039069</td>\n",
       "    </tr>\n",
       "    <tr>\n",
       "      <th>3</th>\n",
       "      <td>3</td>\n",
       "      <td>1627971</td>\n",
       "      <td>0.048180</td>\n",
       "      <td>17330</td>\n",
       "      <td>3</td>\n",
       "      <td>0.037862</td>\n",
       "      <td>0.043021</td>\n",
       "    </tr>\n",
       "    <tr>\n",
       "      <th>4</th>\n",
       "      <td>4</td>\n",
       "      <td>1213682</td>\n",
       "      <td>0.027965</td>\n",
       "      <td>17330</td>\n",
       "      <td>4</td>\n",
       "      <td>0.031600</td>\n",
       "      <td>0.029782</td>\n",
       "    </tr>\n",
       "  </tbody>\n",
       "</table>\n",
       "</div>"
      ],
      "text/plain": [
       "   index_x  order_id  prediction_x  product_id  index_y  prediction_y  \\\n",
       "0        0     65432      0.027229       17330        0      0.035937   \n",
       "1        1    203668      0.048930       17330        1      0.033004   \n",
       "2        2   1734476      0.044416       17330        2      0.033722   \n",
       "3        3   1627971      0.048180       17330        3      0.037862   \n",
       "4        4   1213682      0.027965       17330        4      0.031600   \n",
       "\n",
       "   prediction  \n",
       "0    0.031583  \n",
       "1    0.040967  \n",
       "2    0.039069  \n",
       "3    0.043021  \n",
       "4    0.029782  "
      ]
     },
     "execution_count": 11,
     "metadata": {},
     "output_type": "execute_result"
    }
   ],
   "source": [
    "# Here averaging the two solutions\n",
    "data_merged = pd.merge (data_1 , data_2, on = ['order_id' , 'product_id'], how = 'outer') # outer should give same lenght if data are big the same\n",
    "print ( data_merged.shape)\n",
    "\n",
    "data_merged ['prediction'] = (data_merged ['prediction_x'] + data_merged ['prediction_y']) / 2\n",
    "data_merged.head()"
   ]
  },
  {
   "cell_type": "code",
   "execution_count": 12,
   "metadata": {},
   "outputs": [
    {
     "name": "stdout",
     "output_type": "stream",
     "text": [
      "(4833292, 3)\n"
     ]
    },
    {
     "data": {
      "text/html": [
       "<div>\n",
       "<style>\n",
       "    .dataframe thead tr:only-child th {\n",
       "        text-align: right;\n",
       "    }\n",
       "\n",
       "    .dataframe thead th {\n",
       "        text-align: left;\n",
       "    }\n",
       "\n",
       "    .dataframe tbody tr th {\n",
       "        vertical-align: top;\n",
       "    }\n",
       "</style>\n",
       "<table border=\"1\" class=\"dataframe\">\n",
       "  <thead>\n",
       "    <tr style=\"text-align: right;\">\n",
       "      <th></th>\n",
       "      <th>order_id</th>\n",
       "      <th>product_id</th>\n",
       "      <th>prediction</th>\n",
       "    </tr>\n",
       "  </thead>\n",
       "  <tbody>\n",
       "    <tr>\n",
       "      <th>0</th>\n",
       "      <td>65432</td>\n",
       "      <td>17330</td>\n",
       "      <td>0.031583</td>\n",
       "    </tr>\n",
       "    <tr>\n",
       "      <th>1</th>\n",
       "      <td>203668</td>\n",
       "      <td>17330</td>\n",
       "      <td>0.040967</td>\n",
       "    </tr>\n",
       "    <tr>\n",
       "      <th>2</th>\n",
       "      <td>1734476</td>\n",
       "      <td>17330</td>\n",
       "      <td>0.039069</td>\n",
       "    </tr>\n",
       "    <tr>\n",
       "      <th>3</th>\n",
       "      <td>1627971</td>\n",
       "      <td>17330</td>\n",
       "      <td>0.043021</td>\n",
       "    </tr>\n",
       "    <tr>\n",
       "      <th>4</th>\n",
       "      <td>1213682</td>\n",
       "      <td>17330</td>\n",
       "      <td>0.029782</td>\n",
       "    </tr>\n",
       "  </tbody>\n",
       "</table>\n",
       "</div>"
      ],
      "text/plain": [
       "   order_id  product_id  prediction\n",
       "0     65432       17330    0.031583\n",
       "1    203668       17330    0.040967\n",
       "2   1734476       17330    0.039069\n",
       "3   1627971       17330    0.043021\n",
       "4   1213682       17330    0.029782"
      ]
     },
     "execution_count": 12,
     "metadata": {},
     "output_type": "execute_result"
    }
   ],
   "source": [
    "#To delete the column without having to reassign df you can do:\n",
    "data_merged.drop( ['prediction_x','prediction_y','index_x','index_y',] , axis=1, inplace=True) \n",
    "print (data_merged.shape)\n",
    "data_merged.head()\n"
   ]
  },
  {
   "cell_type": "code",
   "execution_count": 12,
   "metadata": {},
   "outputs": [
    {
     "name": "stdout",
     "output_type": "stream",
     "text": [
      "         order_id  prediction  product_id\n",
      "0           65432    0.027229       17330\n",
      "1          203668    0.048930       17330\n",
      "2         1734476    0.044416       17330\n",
      "3         1627971    0.048180       17330\n",
      "4         1213682    0.027965       17330\n",
      "8          761818    0.029585       17330\n",
      "9         1029203    0.018535       17330\n",
      "10        3052061    0.042104       17330\n",
      "11        1981837    0.060045       17330\n",
      "12        2224210    0.357404       17330\n",
      "13        2669437    0.053260       17330\n",
      "14         526558    0.211673       17330\n",
      "15        1339380    0.160464       17330\n",
      "17         993166    0.357754       17330\n",
      "19        1320217    0.064478       17330\n",
      "20        1697635    0.081522       17330\n",
      "22        2794524    0.613382       17330\n",
      "23        2528159    0.015822       17330\n",
      "24         290583    0.019544       17330\n",
      "25         552080    0.638703       17330\n",
      "26        2110203    0.138697       17330\n",
      "27         347183    0.021586       17330\n",
      "28         581992    0.123443       17330\n",
      "29         957508    0.184560       17330\n",
      "30        3377305    0.038657       17330\n",
      "31        3249652    0.031957       17330\n",
      "32        3030824    0.026103       17330\n",
      "33        3250606    0.010201       17330\n",
      "34        2511113    0.154466       17330\n",
      "35        2188731    0.050581       17330\n",
      "...           ...         ...         ...\n",
      "4833260   2731066    0.010469        1908\n",
      "4833261   1851004    0.034916       37758\n",
      "4833262   2656414    0.385703       24087\n",
      "4833263   3054565    0.028752       43537\n",
      "4833264   1416268    0.028249       48564\n",
      "4833265   1416268    0.031936       28231\n",
      "4833266   2149283    0.175532       44869\n",
      "4833267   1506050    0.097852       33585\n",
      "4833268   1796218    0.015412       30493\n",
      "4833269   3179122    0.106330       39522\n",
      "4833270   1604572    0.016070        2500\n",
      "4833271   1604572    0.034046       41462\n",
      "4833273    439329    0.262769       10844\n",
      "4833274   1752384    0.028318       37480\n",
      "4833275   1878373    0.049984       24470\n",
      "4833276   1878373    0.729735       49233\n",
      "4833277   2705217    0.043280        2606\n",
      "4833278   3195667    0.028727       15571\n",
      "4833279   3135344    0.065770       22519\n",
      "4833281    977663    0.016860       31080\n",
      "4833282   1516670    0.074889       38624\n",
      "4833283   2383565    0.044842       33908\n",
      "4833284   1388427    0.033970        5273\n",
      "4833285   2446037    0.044651       14316\n",
      "4833286   3225258    0.704847       37902\n",
      "4833287   2329006    0.029687       10206\n",
      "4833288   2329006    0.031620       38282\n",
      "4833289   3323261    0.407930       28094\n",
      "4833290    639533    0.067896       21236\n",
      "4833291   2184320    0.041089       37267\n",
      "\n",
      "[4218078 rows x 3 columns]\n"
     ]
    },
    {
     "name": "stderr",
     "output_type": "stream",
     "text": [
      "100%|██████████| 75000/75000 [1:59:41<00:00,  5.03it/s]  \n"
     ]
    }
   ],
   "source": [
    "## This is the final submission that put me in the top 12%, just 20ish position short from the bronze medal\n",
    "## There were thousand of participants for this one.\n",
    "\n",
    "\n",
    "if __name__ == '__main__':\n",
    "   \n",
    "    data_merged = data_merged.loc[data_merged.prediction > 0.011, ['order_id', 'prediction', 'product_id']]\n",
    "    print (data_merged)\n",
    "    \n",
    "    out = [create_products_faron(group) for name, group in tqdm(data_merged.groupby(data_merged.order_id))]\n",
    "\n",
    "    data_merged = pd.DataFrame(data_merged=out, columns=['order_id', 'products'])\n",
    "\n",
    "    data_merged.to_csv('merged_sub.csv', index=False)\n",
    "    data_merged.shape"
   ]
  }
 ],
 "metadata": {
  "kernelspec": {
   "display_name": "Python 3",
   "language": "python",
   "name": "python3"
  },
  "language_info": {
   "codemirror_mode": {
    "name": "ipython",
    "version": 3
   },
   "file_extension": ".py",
   "mimetype": "text/x-python",
   "name": "python",
   "nbconvert_exporter": "python",
   "pygments_lexer": "ipython3",
   "version": "3.6.1"
  }
 },
 "nbformat": 4,
 "nbformat_minor": 2
}
